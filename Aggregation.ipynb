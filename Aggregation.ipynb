{
 "cells": [
  {
   "cell_type": "code",
   "execution_count": 32,
   "id": "bb7b33a9",
   "metadata": {},
   "outputs": [
    {
     "name": "stdout",
     "output_type": "stream",
     "text": [
      "     Country Region  Sales\n",
      "0   Scotland  North    100\n",
      "1   Scotland  South    200\n",
      "2   Scotland   East    250\n",
      "3   Scotland   West    225\n",
      "4    England  North    170\n",
      "5    England  South    450\n",
      "6    England   East    600\n",
      "7    England   West    220\n",
      "8      Wales  North    340\n",
      "9      Wales  South    400\n",
      "10     Wales   East    270\n",
      "11     Wales   West    420\n",
      "12   Ireland  North    540\n",
      "13   Ireland  South    320\n",
      "14   Ireland   East    650\n",
      "15   Ireland   West    240\n",
      "<class 'pandas.core.groupby.generic.SeriesGroupBy'>\n",
      "England\n",
      "Ireland\n",
      "Scotland\n",
      "Wales\n"
     ]
    }
   ],
   "source": [
    "import pandas as pd\n",
    "\n",
    "sales_df = pd.read_csv(\"Sales.csv\")\n",
    "\n",
    "print(sales_df)\n",
    "# print(sales_df['Sales'].groupby(sales_df[\"Country\"]).mean())\n",
    "# # or\n",
    "# print(sales_df.loc[:, 'Sales'].groupby(sales_df.loc[:, \"Country\"]).mean())\n",
    "\n",
    "\n",
    "# print(sales_df.groupby(sales_df[\"Country\"]).mean())\n",
    "# # or\n",
    "# print(sales_df.groupby(sales_df.loc[:, \"Country\"]).mean())\n",
    "\n",
    "# # Note the index names.\n",
    "\n",
    "# print(type(sales_df.loc[:, 'Sales'].groupby(sales_df.loc[:, \"Country\"]).mean()))\n",
    "# PS1 = sales_df.loc[:, 'Sales'].groupby(sales_df.loc[:, \"Country\"]).mean()\n",
    "# print(PS1.index.name)  # Index name is Country\n",
    "\n",
    "#print(type(sales_df[\"Country\"]))\n",
    "# print(type(sales_df.loc[:, 'Sales']))\n",
    "\n",
    "# print(type(sales_df['Sales'].groupby(sales_df[\"Country\"]).mean()))\n",
    "print(type(sales_df['Sales'].groupby(sales_df[\"Country\"])))\n",
    "\n",
    "# print(sales_df['Sales'].groupby(sales_df[\"Country\"]).mean().index.name)\n",
    "\n",
    "# for item in sales_df['Sales'].groupby(sales_df[\"Country\"]):\n",
    "#     print((item[0]))\n",
    "                                      \n",
    "                                    \n",
    "\n",
    "            \n",
    "            \n",
    "            \n",
    "            \n",
    "            \n",
    "            \n",
    "      \n",
    "    \n",
    "    \n",
    "    \n",
    "    \n",
    "    \n",
    "    \n",
    "    \n",
    "        "
   ]
  },
  {
   "cell_type": "code",
   "execution_count": 74,
   "id": "396e419f",
   "metadata": {},
   "outputs": [
    {
     "name": "stdout",
     "output_type": "stream",
     "text": [
      "(('East', 'England'),    Sales  Age\n",
      "6    600   42)\n",
      "(('East', 'Ireland'),     Sales  Age\n",
      "14    650   26)\n",
      "(('East', 'Scotland'),    Sales  Age\n",
      "2    250   54)\n",
      "(('East', 'Wales'),     Sales  Age\n",
      "10    270   53)\n",
      "(('North', 'England'),    Sales  Age\n",
      "4    170   52)\n",
      "(('North', 'Ireland'),     Sales  Age\n",
      "12    540   39)\n",
      "(('North', 'Scotland'),    Sales  Age\n",
      "0    100   45)\n",
      "(('North', 'Wales'),    Sales  Age\n",
      "8    340   23)\n",
      "(('South', 'England'),    Sales  Age\n",
      "5    450   35)\n",
      "(('South', 'Ireland'),     Sales  Age\n",
      "13    320   27)\n",
      "(('South', 'Scotland'),    Sales  Age\n",
      "1    200   34)\n",
      "(('South', 'Wales'),    Sales  Age\n",
      "9    400   22)\n",
      "(('West', 'England'),    Sales  Age\n",
      "7    220   31)\n",
      "(('West', 'Ireland'),     Sales  Age\n",
      "15    240   44)\n",
      "(('West', 'Scotland'),    Sales  Age\n",
      "3    225   23)\n",
      "(('West', 'Wales'),     Sales  Age\n",
      "11    420   47)\n"
     ]
    }
   ],
   "source": [
    "import pandas as pd\n",
    "\n",
    "sales2_df = pd.read_csv(\"Sales2.csv\")\n",
    "\n",
    "# for item in sales2_df.loc[:,['Sales','Age']].groupby([sales_df.loc[:, \"Region\"], sales_df.loc[:, \"Country\"]]):\n",
    "#     print(item)\n",
    "    \n",
    "\n",
    "    \n",
    "    # for item in sales_df['Sales'].groupby([sales_df[\"Region\"], sales_df[\"Country\"]]):\n",
    "#     print(item)\n",
    "\n",
    "#print(sales2_df[['Sales','Age']].groupby([sales_df[\"Region\"], sales_df[\"Country\"]]).mean())\n",
    "\n",
    "# or\n",
    "\n",
    "# print(sales2_df.loc[:,['Sales','Age']].groupby([sales_df.loc[:, \"Region\"], sales_df.loc[:, \"Country\"]]).mean())\n",
    "\n",
    "\n",
    "# print(sales2_df[['Sales','Age']].groupby(sales_df.loc[:, \"Country\"]).mean())\n",
    "\n",
    "# # or\n",
    "\n",
    "# print(sales2_df.loc[:,['Sales','Age']].groupby(sales_df.loc[:, \"Country\"]).mean())\n",
    "\n",
    "\n",
    "\n",
    "\n",
    "#print(sales2_df)\n",
    "\n",
    "\n",
    "# sales2_df = pd.read_csv(\"Sales2.csv\", index_col = \"Country\")\n",
    "\n",
    "# print(sales2_df[['Sales','Age']].groupby('Country').mean())\n",
    "#  # or\n",
    "# print(sales2_df.loc[:,['Sales','Age']].groupby('Country').mean())\n",
    "\n",
    "# print(type(sales2_df.loc[:,['Sales','Age']].groupby('Country').mean()))\n",
    "\n",
    "# for item in sales2_df.loc[:,['Sales','Age']].groupby(\"Country\"):\n",
    "#     print(item[1])\n",
    "\n",
    "\n",
    "# for item in sales2_df.loc[:,['Sales','Age']].groupby(sales_df.loc[:, \"Country\"]):\n",
    "#     print(item[1])\n",
    "\n",
    "# print(sales2_df[['Sales','Age']].groupby('Country').mean())\n",
    "#  # or\n",
    "# print(sales2_df.loc[:,['Sales','Age']].groupby('Country').mean())"
   ]
  },
  {
   "cell_type": "code",
   "execution_count": 56,
   "id": "98e6af06",
   "metadata": {},
   "outputs": [
    {
     "name": "stdout",
     "output_type": "stream",
     "text": [
      "Region  Country \n",
      "East    England     600.0\n",
      "        Ireland     650.0\n",
      "        Scotland    250.0\n",
      "        Wales       270.0\n",
      "North   England     170.0\n",
      "        Ireland     540.0\n",
      "        Scotland    100.0\n",
      "        Wales       340.0\n",
      "South   England     450.0\n",
      "        Ireland     320.0\n",
      "        Scotland    200.0\n",
      "        Wales       400.0\n",
      "West    England     220.0\n",
      "        Ireland     240.0\n",
      "        Scotland    225.0\n",
      "        Wales       420.0\n",
      "Name: Sales, dtype: float64\n",
      "Region  Country \n",
      "East    England     600.0\n",
      "        Ireland     650.0\n",
      "        Scotland    250.0\n",
      "        Wales       270.0\n",
      "North   England     170.0\n",
      "        Ireland     540.0\n",
      "        Scotland    100.0\n",
      "        Wales       340.0\n",
      "South   England     450.0\n",
      "        Ireland     320.0\n",
      "        Scotland    200.0\n",
      "        Wales       400.0\n",
      "West    England     220.0\n",
      "        Ireland     240.0\n",
      "        Scotland    225.0\n",
      "        Wales       420.0\n",
      "Name: Sales, dtype: float64\n",
      "['Region', 'Country']\n"
     ]
    }
   ],
   "source": [
    "# Sub-groups.  Country within Region.\n",
    "\n",
    "print(sales_df['Sales'].groupby([sales_df[\"Region\"], sales_df[\"Country\"]]).mean())\n",
    "\n",
    "# or\n",
    "\n",
    "print(sales_df.loc[:, 'Sales'].groupby([sales_df.loc[:, \"Region\"], sales_df.loc[:, \"Country\"]]).mean())\n",
    "\n",
    "\n",
    "# Index name of SeriesGroupBy object  ['Region', 'Country']\n",
    "\n",
    "print(sales_df.loc[:, 'Sales'].groupby([sales_df.loc[:, \"Region\"], sales_df.loc[:, \"Country\"]]).mean().index.names)\n",
    "\n"
   ]
  },
  {
   "cell_type": "code",
   "execution_count": 49,
   "id": "6a8472b7",
   "metadata": {},
   "outputs": [
    {
     "name": "stdout",
     "output_type": "stream",
     "text": [
      "['Region', 'Country']\n",
      "Country\n",
      "England     360.00\n",
      "Ireland     437.50\n",
      "Scotland    193.75\n",
      "Wales       357.50\n",
      "Name: Sales, dtype: float64\n",
      "Country\n",
      "England     360.00\n",
      "Ireland     437.50\n",
      "Scotland    193.75\n",
      "Wales       357.50\n",
      "Name: Sales, dtype: float64\n"
     ]
    }
   ],
   "source": [
    "# Display only Sales column\n",
    "salesds = sales_df['Sales'].groupby([sales_df[\"Region\"], sales_df[\"Country\"]]).mean()\n",
    "print(salesds.index.names)\n",
    "\n",
    "print(salesds.groupby('Country').mean())\n",
    "\n",
    "# or if you like complex code:\n",
    "\n",
    "\n",
    "print(sales_df['Sales'].groupby([sales_df[\"Region\"], sales_df[\"Country\"]]).mean().groupby('Country').mean())\n",
    "\n",
    "\n"
   ]
  },
  {
   "cell_type": "code",
   "execution_count": 66,
   "id": "81f2d6bf",
   "metadata": {},
   "outputs": [
    {
     "name": "stdout",
     "output_type": "stream",
     "text": [
      "         Region  Sales Manager  Age\n",
      "Country                            \n",
      "Scotland  North    100    John   45\n",
      "Scotland  South    200    Paul   34\n",
      "Scotland   East    250  George   54\n",
      "Scotland   West    225   Ringo   23\n",
      "England   North    170    Davy   52\n",
      "England   South    450    Mike   35\n",
      "England    East    600   Micky   42\n",
      "England    West    220   Peter   31\n",
      "Wales     North    340  Judith   23\n",
      "Wales     South    400   Athol   22\n",
      "Wales      East    270   Keith   53\n",
      "Wales      West    420   Bruce   47\n",
      "Ireland   North    540   Brian   39\n",
      "Ireland   South    320  Dennis   27\n",
      "Ireland    East    650    Mike   26\n",
      "Ireland    West    240    Carl   44\n",
      "           Sales    Age\n",
      "Country                \n",
      "England   360.00  40.00\n",
      "Ireland   437.50  34.00\n",
      "Scotland  193.75  39.00\n",
      "Wales     357.50  36.25\n"
     ]
    },
    {
     "name": "stderr",
     "output_type": "stream",
     "text": [
      "C:\\Users\\Ian\\AppData\\Local\\Temp/ipykernel_29000/1376216167.py:7: FutureWarning: The default value of numeric_only in DataFrameGroupBy.mean is deprecated. In a future version, numeric_only will default to False. Either specify numeric_only or select only columns which should be valid for the function.\n",
      "  print(sales2_df.groupby('Country').mean())\n"
     ]
    }
   ],
   "source": []
  },
  {
   "cell_type": "code",
   "execution_count": 46,
   "id": "4e39ce66",
   "metadata": {},
   "outputs": [
    {
     "name": "stdout",
     "output_type": "stream",
     "text": [
      "           Sales    Age\n",
      "Country                \n",
      "England   360.00  40.00\n",
      "Ireland   437.50  34.00\n",
      "Scotland  193.75  39.00\n",
      "Wales     357.50  36.25\n",
      "         Sales    Age\n",
      "Region               \n",
      "East    442.50  43.75\n",
      "North   287.50  39.75\n",
      "South   342.50  29.50\n",
      "West    276.25  36.25\n",
      "    Sales    Age\n",
      "0  442.50  43.75\n",
      "1  287.50  39.75\n",
      "2  342.50  29.50\n",
      "3  276.25  36.25\n"
     ]
    }
   ],
   "source": [
    "import pandas as pd\n",
    "\n",
    "sales2_df = pd.read_csv(\"Sales2.csv\", index_col = [\"Country\", \"Region\"])\n",
    "\n",
    "print(sales2_df.loc[:,['Sales','Age']].groupby(\"Country\").mean())\n",
    "\n",
    "print(sales2_df.loc[:,['Sales','Age']].groupby(\"Region\").mean())\n",
    "\n",
    "print(sales2_df.loc[:,['Sales','Age']].groupby(\"Region\").mean())\n",
    "\n",
    "\n",
    "\n",
    "\n",
    "\n",
    "\n",
    "\n",
    "\n",
    "\n",
    "\n",
    "#print(sales2_df.loc[:,['Sales','Age']].groupby([\"Region\", \"Country\"]).mean())"
   ]
  },
  {
   "cell_type": "code",
   "execution_count": 94,
   "id": "6ba60685",
   "metadata": {},
   "outputs": [
    {
     "name": "stdout",
     "output_type": "stream",
     "text": [
      "                 Sales   Age\n",
      "Region Country              \n",
      "East   England   600.0  42.0\n",
      "       Ireland   650.0  26.0\n",
      "       Scotland  250.0  54.0\n",
      "       Wales     270.0  53.0\n",
      "North  England   170.0  52.0\n",
      "       Ireland   540.0  39.0\n",
      "       Scotland  100.0  45.0\n",
      "       Wales     340.0  23.0\n",
      "South  England   450.0  35.0\n",
      "       Ireland   320.0  27.0\n",
      "       Scotland  200.0  34.0\n",
      "       Wales     400.0  22.0\n",
      "West   England   220.0  31.0\n",
      "       Ireland   240.0  44.0\n",
      "       Scotland  225.0  23.0\n",
      "       Wales     420.0  47.0\n"
     ]
    }
   ],
   "source": [
    "import pandas as pd\n",
    "\n",
    "sales3_df = pd.read_csv(\"Sales2.csv\", index_col = \"Country\")\n",
    "\n",
    "print(sales3_df.loc[:,['Sales','Age']].groupby([sales3_df.loc[:, \"Region\"], \"Country\"]).mean())\n",
    "\n"
   ]
  },
  {
   "cell_type": "code",
   "execution_count": 8,
   "id": "1ffa3239",
   "metadata": {},
   "outputs": [
    {
     "name": "stdout",
     "output_type": "stream",
     "text": [
      "         City       Utd       Rovers\n",
      "          U18 Adult U18 Adult  Adult\n",
      "Male   A   10    12  14    16     18\n",
      "       B    7     8   9    10     11\n",
      "Female A   14    16   3     7      4\n",
      "          City  Rovers   Utd\n",
      "Male   A  11.0    18.0  15.0\n",
      "       B   7.5    11.0   9.5\n",
      "Female A  15.0     4.0   5.0\n",
      "              Adult   U18\n",
      "Male   A  15.333333  12.0\n",
      "       B   9.666667   8.0\n",
      "Female A   9.000000   8.5\n"
     ]
    },
    {
     "ename": "TypeError",
     "evalue": "You have to supply one of 'by' and 'level'",
     "output_type": "error",
     "traceback": [
      "\u001b[1;31m---------------------------------------------------------------------------\u001b[0m",
      "\u001b[1;31mTypeError\u001b[0m                                 Traceback (most recent call last)",
      "\u001b[1;32m~\\AppData\\Local\\Temp/ipykernel_18456/1767653380.py\u001b[0m in \u001b[0;36m<module>\u001b[1;34m\u001b[0m\n\u001b[0;32m      9\u001b[0m \u001b[0mprint\u001b[0m\u001b[1;33m(\u001b[0m\u001b[0mdf_teams\u001b[0m\u001b[1;33m.\u001b[0m\u001b[0mgroupby\u001b[0m\u001b[1;33m(\u001b[0m\u001b[0mlevel\u001b[0m\u001b[1;33m=\u001b[0m\u001b[1;36m0\u001b[0m\u001b[1;33m,\u001b[0m \u001b[0maxis\u001b[0m\u001b[1;33m=\u001b[0m\u001b[1;34m\"columns\"\u001b[0m\u001b[1;33m)\u001b[0m\u001b[1;33m.\u001b[0m\u001b[0mmean\u001b[0m\u001b[1;33m(\u001b[0m\u001b[1;33m)\u001b[0m\u001b[1;33m)\u001b[0m\u001b[1;33m\u001b[0m\u001b[1;33m\u001b[0m\u001b[0m\n\u001b[0;32m     10\u001b[0m \u001b[0mprint\u001b[0m\u001b[1;33m(\u001b[0m\u001b[0mdf_teams\u001b[0m\u001b[1;33m.\u001b[0m\u001b[0mgroupby\u001b[0m\u001b[1;33m(\u001b[0m\u001b[0mlevel\u001b[0m\u001b[1;33m=\u001b[0m\u001b[1;36m1\u001b[0m\u001b[1;33m,\u001b[0m \u001b[0maxis\u001b[0m\u001b[1;33m=\u001b[0m\u001b[1;34m\"columns\"\u001b[0m\u001b[1;33m)\u001b[0m\u001b[1;33m.\u001b[0m\u001b[0mmean\u001b[0m\u001b[1;33m(\u001b[0m\u001b[1;33m)\u001b[0m\u001b[1;33m)\u001b[0m\u001b[1;33m\u001b[0m\u001b[1;33m\u001b[0m\u001b[0m\n\u001b[1;32m---> 11\u001b[1;33m \u001b[0mprint\u001b[0m\u001b[1;33m(\u001b[0m\u001b[0mdf_teams\u001b[0m\u001b[1;33m.\u001b[0m\u001b[0mgroupby\u001b[0m\u001b[1;33m(\u001b[0m\u001b[0maxis\u001b[0m\u001b[1;33m=\u001b[0m\u001b[1;34m\"columns\"\u001b[0m\u001b[1;33m)\u001b[0m\u001b[1;33m.\u001b[0m\u001b[0mmean\u001b[0m\u001b[1;33m(\u001b[0m\u001b[1;33m)\u001b[0m\u001b[1;33m)\u001b[0m\u001b[1;33m\u001b[0m\u001b[1;33m\u001b[0m\u001b[0m\n\u001b[0m",
      "\u001b[1;32mc:\\users\\ian\\appdata\\local\\programs\\python\\python39\\lib\\site-packages\\pandas\\core\\frame.py\u001b[0m in \u001b[0;36mgroupby\u001b[1;34m(self, by, axis, level, as_index, sort, group_keys, squeeze, observed, dropna)\u001b[0m\n\u001b[0;32m   8384\u001b[0m \u001b[1;33m\u001b[0m\u001b[0m\n\u001b[0;32m   8385\u001b[0m         \u001b[1;32mif\u001b[0m \u001b[0mlevel\u001b[0m \u001b[1;32mis\u001b[0m \u001b[1;32mNone\u001b[0m \u001b[1;32mand\u001b[0m \u001b[0mby\u001b[0m \u001b[1;32mis\u001b[0m \u001b[1;32mNone\u001b[0m\u001b[1;33m:\u001b[0m\u001b[1;33m\u001b[0m\u001b[1;33m\u001b[0m\u001b[0m\n\u001b[1;32m-> 8386\u001b[1;33m             \u001b[1;32mraise\u001b[0m \u001b[0mTypeError\u001b[0m\u001b[1;33m(\u001b[0m\u001b[1;34m\"You have to supply one of 'by' and 'level'\"\u001b[0m\u001b[1;33m)\u001b[0m\u001b[1;33m\u001b[0m\u001b[1;33m\u001b[0m\u001b[0m\n\u001b[0m\u001b[0;32m   8387\u001b[0m         \u001b[0maxis\u001b[0m \u001b[1;33m=\u001b[0m \u001b[0mself\u001b[0m\u001b[1;33m.\u001b[0m\u001b[0m_get_axis_number\u001b[0m\u001b[1;33m(\u001b[0m\u001b[0maxis\u001b[0m\u001b[1;33m)\u001b[0m\u001b[1;33m\u001b[0m\u001b[1;33m\u001b[0m\u001b[0m\n\u001b[0;32m   8388\u001b[0m \u001b[1;33m\u001b[0m\u001b[0m\n",
      "\u001b[1;31mTypeError\u001b[0m: You have to supply one of 'by' and 'level'"
     ]
    }
   ],
   "source": [
    "import pandas as pd\n",
    "\n",
    "df_teams = pd.DataFrame([[10, 12, 14, 16, 18], [7, 8, 9, 10, 11], [14, 16, 3, 7, 4]],\n",
    "                  index = [['Male', 'Male', 'Female'], ['A', 'B', 'A']],\n",
    "                  columns = [['City', 'City', 'Utd', 'Utd', 'Rovers'], ['U18', 'Adult', 'U18', 'Adult', 'Adult']])\n",
    "\n",
    "\n",
    "\n",
    "print(df_teams)\n",
    "\n",
    "\n",
    "print(df_teams.groupby(level=0, axis=\"columns\").mean())\n",
    "\n",
    "\n",
    "print(df_teams.groupby(level=1, axis=\"columns\").mean())\n",
    "\n"
   ]
  },
  {
   "cell_type": "code",
   "execution_count": 9,
   "id": "917c32e8",
   "metadata": {},
   "outputs": [
    {
     "name": "stdout",
     "output_type": "stream",
     "text": [
      "         Region  Sales Manager  Age\n",
      "Country                            \n",
      "Scotland  North    100    John   45\n",
      "Scotland  South    200    Paul   34\n",
      "Scotland   East    250  George   54\n",
      "Scotland   West    225   Ringo   23\n",
      "England   North    170    Davy   52\n",
      "England   South    450    Mike   35\n",
      "England    East    600   Micky   42\n",
      "England    West    220   Peter   31\n",
      "Wales     North    340  Judith   23\n",
      "Wales     South    400   Athol   22\n",
      "Wales      East    270   Keith   53\n",
      "Wales      West    420   Bruce   47\n",
      "Ireland   North    540   Brian   39\n",
      "Ireland   South    320  Dennis   27\n",
      "Ireland    East    650    Mike   26\n",
      "Ireland    West    240    Carl   44\n",
      "<class 'pandas.core.frame.DataFrame'>\n"
     ]
    },
    {
     "ename": "TypeError",
     "evalue": "unhashable type: 'Series'",
     "output_type": "error",
     "traceback": [
      "\u001b[1;31m---------------------------------------------------------------------------\u001b[0m",
      "\u001b[1;31mTypeError\u001b[0m                                 Traceback (most recent call last)",
      "\u001b[1;32m~\\AppData\\Local\\Temp/ipykernel_18456/1530175365.py\u001b[0m in \u001b[0;36m<module>\u001b[1;34m\u001b[0m\n\u001b[0;32m      6\u001b[0m \u001b[0mprint\u001b[0m\u001b[1;33m(\u001b[0m\u001b[0msales_df\u001b[0m\u001b[1;33m)\u001b[0m\u001b[1;33m\u001b[0m\u001b[1;33m\u001b[0m\u001b[0m\n\u001b[0;32m      7\u001b[0m \u001b[0mprint\u001b[0m\u001b[1;33m(\u001b[0m\u001b[0mtype\u001b[0m\u001b[1;33m(\u001b[0m\u001b[0msales_df\u001b[0m\u001b[1;33m)\u001b[0m\u001b[1;33m)\u001b[0m\u001b[1;33m\u001b[0m\u001b[1;33m\u001b[0m\u001b[0m\n\u001b[1;32m----> 8\u001b[1;33m \u001b[0mprint\u001b[0m\u001b[1;33m(\u001b[0m\u001b[0msales_df\u001b[0m\u001b[1;33m.\u001b[0m\u001b[0mgroupby\u001b[0m\u001b[1;33m(\u001b[0m\u001b[1;34m\"Country\"\u001b[0m\u001b[1;33m,\u001b[0m \u001b[0msales_df\u001b[0m\u001b[1;33m.\u001b[0m\u001b[0mloc\u001b[0m\u001b[1;33m[\u001b[0m\u001b[1;33m:\u001b[0m\u001b[1;33m,\u001b[0m \u001b[1;34m\"Region\"\u001b[0m\u001b[1;33m]\u001b[0m\u001b[1;33m)\u001b[0m\u001b[1;33m.\u001b[0m\u001b[0msize\u001b[0m\u001b[1;33m(\u001b[0m\u001b[1;33m)\u001b[0m\u001b[1;33m)\u001b[0m\u001b[1;33m\u001b[0m\u001b[1;33m\u001b[0m\u001b[0m\n\u001b[0m",
      "\u001b[1;32mc:\\users\\ian\\appdata\\local\\programs\\python\\python39\\lib\\site-packages\\pandas\\core\\frame.py\u001b[0m in \u001b[0;36mgroupby\u001b[1;34m(self, by, axis, level, as_index, sort, group_keys, squeeze, observed, dropna)\u001b[0m\n\u001b[0;32m   8385\u001b[0m         \u001b[1;32mif\u001b[0m \u001b[0mlevel\u001b[0m \u001b[1;32mis\u001b[0m \u001b[1;32mNone\u001b[0m \u001b[1;32mand\u001b[0m \u001b[0mby\u001b[0m \u001b[1;32mis\u001b[0m \u001b[1;32mNone\u001b[0m\u001b[1;33m:\u001b[0m\u001b[1;33m\u001b[0m\u001b[1;33m\u001b[0m\u001b[0m\n\u001b[0;32m   8386\u001b[0m             \u001b[1;32mraise\u001b[0m \u001b[0mTypeError\u001b[0m\u001b[1;33m(\u001b[0m\u001b[1;34m\"You have to supply one of 'by' and 'level'\"\u001b[0m\u001b[1;33m)\u001b[0m\u001b[1;33m\u001b[0m\u001b[1;33m\u001b[0m\u001b[0m\n\u001b[1;32m-> 8387\u001b[1;33m         \u001b[0maxis\u001b[0m \u001b[1;33m=\u001b[0m \u001b[0mself\u001b[0m\u001b[1;33m.\u001b[0m\u001b[0m_get_axis_number\u001b[0m\u001b[1;33m(\u001b[0m\u001b[0maxis\u001b[0m\u001b[1;33m)\u001b[0m\u001b[1;33m\u001b[0m\u001b[1;33m\u001b[0m\u001b[0m\n\u001b[0m\u001b[0;32m   8388\u001b[0m \u001b[1;33m\u001b[0m\u001b[0m\n\u001b[0;32m   8389\u001b[0m         return DataFrameGroupBy(\n",
      "\u001b[1;32mc:\\users\\ian\\appdata\\local\\programs\\python\\python39\\lib\\site-packages\\pandas\\core\\generic.py\u001b[0m in \u001b[0;36m_get_axis_number\u001b[1;34m(cls, axis)\u001b[0m\n\u001b[0;32m    552\u001b[0m     \u001b[1;32mdef\u001b[0m \u001b[0m_get_axis_number\u001b[0m\u001b[1;33m(\u001b[0m\u001b[0mcls\u001b[0m\u001b[1;33m,\u001b[0m \u001b[0maxis\u001b[0m\u001b[1;33m:\u001b[0m \u001b[0mAxis\u001b[0m\u001b[1;33m)\u001b[0m \u001b[1;33m->\u001b[0m \u001b[0mint\u001b[0m\u001b[1;33m:\u001b[0m\u001b[1;33m\u001b[0m\u001b[1;33m\u001b[0m\u001b[0m\n\u001b[0;32m    553\u001b[0m         \u001b[1;32mtry\u001b[0m\u001b[1;33m:\u001b[0m\u001b[1;33m\u001b[0m\u001b[1;33m\u001b[0m\u001b[0m\n\u001b[1;32m--> 554\u001b[1;33m             \u001b[1;32mreturn\u001b[0m \u001b[0mcls\u001b[0m\u001b[1;33m.\u001b[0m\u001b[0m_AXIS_TO_AXIS_NUMBER\u001b[0m\u001b[1;33m[\u001b[0m\u001b[0maxis\u001b[0m\u001b[1;33m]\u001b[0m\u001b[1;33m\u001b[0m\u001b[1;33m\u001b[0m\u001b[0m\n\u001b[0m\u001b[0;32m    555\u001b[0m         \u001b[1;32mexcept\u001b[0m \u001b[0mKeyError\u001b[0m\u001b[1;33m:\u001b[0m\u001b[1;33m\u001b[0m\u001b[1;33m\u001b[0m\u001b[0m\n\u001b[0;32m    556\u001b[0m             \u001b[1;32mraise\u001b[0m \u001b[0mValueError\u001b[0m\u001b[1;33m(\u001b[0m\u001b[1;34mf\"No axis named {axis} for object type {cls.__name__}\"\u001b[0m\u001b[1;33m)\u001b[0m\u001b[1;33m\u001b[0m\u001b[1;33m\u001b[0m\u001b[0m\n",
      "\u001b[1;31mTypeError\u001b[0m: unhashable type: 'Series'"
     ]
    }
   ],
   "source": [
    "# To group by an index, we pass its name directly into groupby(). # [We can't use loc - that is for column names.]\n",
    "\n",
    "import pandas as pd\n",
    "\n",
    "sales_df = pd.read_csv(\"Sales2.csv\", index_col = \"Country\")\n",
    "print(sales_df)\n",
    "print(type(sales_df))\n",
    "print(sales_df.groupby(\"Country\", sales_df.loc[:, \"Region\"]).size())"
   ]
  },
  {
   "cell_type": "code",
   "execution_count": 15,
   "id": "20eeda91",
   "metadata": {},
   "outputs": [
    {
     "name": "stdout",
     "output_type": "stream",
     "text": [
      "Country\n",
      "England     4\n",
      "Ireland     4\n",
      "Scotland    4\n",
      "Wales       4\n",
      "Name: Sales, dtype: int64\n",
      "Region\n",
      "East     4\n",
      "North    4\n",
      "South    4\n",
      "West     4\n",
      "Name: Sales, dtype: int64\n"
     ]
    }
   ],
   "source": [
    "import pandas as pd\n",
    "\n",
    "sales2_df = pd.read_csv(\"Sales2.csv\", index_col = [\"Country\", \"Region\"])\n",
    "\n",
    "print(sales2_df['Sales'].groupby(\"Country\").size())\n",
    "print(sales2_df['Sales'].groupby(\"Region\").count())"
   ]
  },
  {
   "cell_type": "code",
   "execution_count": 68,
   "id": "59568499",
   "metadata": {},
   "outputs": [
    {
     "name": "stdout",
     "output_type": "stream",
     "text": [
      "Country\n",
      "England     4\n",
      "Ireland     4\n",
      "Scotland    4\n",
      "Wales       4\n",
      "dtype: int64\n"
     ]
    }
   ],
   "source": [
    "print(sales2_df.groupby('Country').size())\n",
    "\n"
   ]
  },
  {
   "cell_type": "code",
   "execution_count": 84,
   "id": "0c43c025",
   "metadata": {},
   "outputs": [
    {
     "name": "stdout",
     "output_type": "stream",
     "text": [
      "Class\n",
      "a    6\n",
      "b    3\n",
      "dtype: int64\n",
      "Class\n",
      "a    5\n",
      "b    2\n",
      "dtype: int64\n",
      "<class 'pandas.core.groupby.generic.SeriesGroupBy'>\n"
     ]
    }
   ],
   "source": [
    "# size() vs count()\n",
    "\n",
    "import pandas as pd\n",
    "\n",
    "ds1 = pd.Series([1,2,3,4, None,5,6, None,7] ,index = ['a', 'a', 'a', 'b', 'b', 'b', 'a', 'a', 'a'])\n",
    "ds1.index.name = \"Class\"\n",
    "\n",
    "print(ds1.groupby(\"Class\").size())  # Includes everything.\n",
    "\n",
    "print(ds1.groupby(\"Class\").count()) # Counts only non-NA values\n",
    "\n",
    "print(type(ds1.groupby(\"Class\"))) # Counts only non-NA values"
   ]
  },
  {
   "cell_type": "code",
   "execution_count": 91,
   "id": "ec881fee",
   "metadata": {},
   "outputs": [
    {
     "name": "stdout",
     "output_type": "stream",
     "text": [
      "         Region  Sales Manager  Age\n",
      "Country                            \n",
      "Scotland  North    100    John   45\n",
      "Scotland  South    200    Paul   34\n",
      "Scotland   East    250  George   54\n",
      "Scotland   West    225   Ringo   23\n",
      "England   North    170    Davy   52\n",
      "England   South    450    Mike   35\n",
      "England    East    600   Micky   42\n",
      "England    West    220   Peter   31\n",
      "Wales     North    340  Judith   23\n",
      "Wales     South    400   Athol   22\n",
      "Wales      East    270   Keith   53\n",
      "Wales      West    420   Bruce   47\n",
      "Ireland   North    540   Brian   39\n",
      "Ireland   South    320  Dennis   27\n",
      "Ireland    East    650    Mike   26\n",
      "Ireland    West    240    Carl   44\n",
      "East 2     250\n",
      "6     600\n",
      "10    270\n",
      "14    650\n",
      "Name: Sales, dtype: int64\n",
      "North 0     100\n",
      "4     170\n",
      "8     340\n",
      "12    540\n",
      "Name: Sales, dtype: int64\n",
      "South 1     200\n",
      "5     450\n",
      "9     400\n",
      "13    320\n",
      "Name: Sales, dtype: int64\n",
      "West 3     225\n",
      "7     220\n",
      "11    420\n",
      "15    240\n",
      "Name: Sales, dtype: int64\n"
     ]
    }
   ],
   "source": [
    "import pandas as pd\n",
    "\n",
    "sales2_df = pd.read_csv(\"Sales2.csv\", index_col = \"Country\")\n",
    "\n",
    "print(sales2_df)\n",
    "\n",
    "for x,y in sales_df['Sales'].groupby(sales_df[\"Region\"]):\n",
    "    print(x, y)"
   ]
  },
  {
   "cell_type": "code",
   "execution_count": 128,
   "id": "5b01bcdc",
   "metadata": {},
   "outputs": [
    {
     "name": "stdout",
     "output_type": "stream",
     "text": [
      "L1  L2\n",
      "A   x     1\n",
      "    x     3\n",
      "dtype: int64\n",
      "L1  L2\n",
      "B   x     2\n",
      "dtype: int64\n",
      "L1  L2\n",
      "B   y     4\n",
      "dtype: int64\n"
     ]
    }
   ],
   "source": [
    "import pandas as pd\n",
    "\n",
    "ds1 = pd.Series([1,2,3,4], index = [['A', 'B', 'A', 'B'], ['x','x', 'x', 'y']])\n",
    "ds1.index.names = ['L1', 'L2']\n",
    "\n",
    "#print(ds1.groupby(['L1', 'L2']).count())\n",
    "\n",
    "for (x,y), z in ds1.groupby(['L1', 'L2']):\n",
    "    print(z)\n",
    "#print(ds1)"
   ]
  },
  {
   "cell_type": "code",
   "execution_count": 8,
   "id": "d9e18282",
   "metadata": {},
   "outputs": [
    {
     "name": "stdout",
     "output_type": "stream",
     "text": [
      "         Sales    Age\n",
      "Region               \n",
      "East    442.50  43.75\n",
      "North   287.50  39.75\n",
      "South   342.50  29.50\n",
      "West    276.25  36.25\n"
     ]
    }
   ],
   "source": [
    "# Column subsets\n",
    "\n",
    "import pandas as pd\n",
    "\n",
    "sales2_df = pd.read_csv(\"Sales2.csv\", index_col = \"Country\")\n",
    "\n",
    "print(sales2_df[[\"Sales\",'Age']].groupby(sales2_df['Region']).mean())\n",
    "\n"
   ]
  },
  {
   "cell_type": "code",
   "execution_count": 25,
   "id": "6fb8ed48",
   "metadata": {},
   "outputs": [
    {
     "name": "stdout",
     "output_type": "stream",
     "text": [
      "key1\n",
      "a    0.025532\n",
      "b    0.074402\n",
      "Name: data1, dtype: float64\n",
      "key1\n",
      "a    0.025532\n",
      "b    0.074402\n",
      "Name: data1, dtype: float64\n",
      "key1\n",
      "a    0.025532\n",
      "b    0.074402\n",
      "Name: data1, dtype: float64\n"
     ]
    },
    {
     "name": "stderr",
     "output_type": "stream",
     "text": [
      "<>:23: SyntaxWarning: list indices must be integers or slices, not str; perhaps you missed a comma?\n",
      "<>:23: SyntaxWarning: list indices must be integers or slices, not str; perhaps you missed a comma?\n",
      "C:\\Users\\Ian\\AppData\\Local\\Temp/ipykernel_15220/243836815.py:23: SyntaxWarning: list indices must be integers or slices, not str; perhaps you missed a comma?\n",
      "  print(df[['data1'][\"data2\"]].groupby(df[\"key1\"]).mean())\n"
     ]
    },
    {
     "ename": "TypeError",
     "evalue": "list indices must be integers or slices, not str",
     "output_type": "error",
     "traceback": [
      "\u001b[1;31m---------------------------------------------------------------------------\u001b[0m",
      "\u001b[1;31mTypeError\u001b[0m                                 Traceback (most recent call last)",
      "\u001b[1;32m~\\AppData\\Local\\Temp/ipykernel_15220/243836815.py\u001b[0m in \u001b[0;36m<module>\u001b[1;34m\u001b[0m\n\u001b[0;32m     21\u001b[0m \u001b[0mprint\u001b[0m\u001b[1;33m(\u001b[0m\u001b[0mdf\u001b[0m\u001b[1;33m[\u001b[0m\u001b[1;34m'data1'\u001b[0m\u001b[1;33m]\u001b[0m\u001b[1;33m.\u001b[0m\u001b[0mgroupby\u001b[0m\u001b[1;33m(\u001b[0m\u001b[0mdf\u001b[0m\u001b[1;33m[\u001b[0m\u001b[1;34m\"key1\"\u001b[0m\u001b[1;33m]\u001b[0m\u001b[1;33m)\u001b[0m\u001b[1;33m.\u001b[0m\u001b[0mmean\u001b[0m\u001b[1;33m(\u001b[0m\u001b[1;33m)\u001b[0m\u001b[1;33m)\u001b[0m\u001b[1;33m\u001b[0m\u001b[1;33m\u001b[0m\u001b[0m\n\u001b[0;32m     22\u001b[0m \u001b[1;33m\u001b[0m\u001b[0m\n\u001b[1;32m---> 23\u001b[1;33m \u001b[0mprint\u001b[0m\u001b[1;33m(\u001b[0m\u001b[0mdf\u001b[0m\u001b[1;33m[\u001b[0m\u001b[1;33m[\u001b[0m\u001b[1;34m'data1'\u001b[0m\u001b[1;33m]\u001b[0m\u001b[1;33m[\u001b[0m\u001b[1;34m\"data2\"\u001b[0m\u001b[1;33m]\u001b[0m\u001b[1;33m]\u001b[0m\u001b[1;33m.\u001b[0m\u001b[0mgroupby\u001b[0m\u001b[1;33m(\u001b[0m\u001b[0mdf\u001b[0m\u001b[1;33m[\u001b[0m\u001b[1;34m\"key1\"\u001b[0m\u001b[1;33m]\u001b[0m\u001b[1;33m)\u001b[0m\u001b[1;33m.\u001b[0m\u001b[0mmean\u001b[0m\u001b[1;33m(\u001b[0m\u001b[1;33m)\u001b[0m\u001b[1;33m)\u001b[0m\u001b[1;33m\u001b[0m\u001b[1;33m\u001b[0m\u001b[0m\n\u001b[0m\u001b[0;32m     24\u001b[0m \u001b[1;33m\u001b[0m\u001b[0m\n",
      "\u001b[1;31mTypeError\u001b[0m: list indices must be integers or slices, not str"
     ]
    }
   ],
   "source": [
    "# Selecting Subsets of Columns\n",
    "\n",
    "import pandas as pd\n",
    "import numpy as np\n",
    "\n",
    "df = pd.DataFrame({\"key1\":['a', 'a', None, 'b', 'b', 'a', None],\n",
    "                   \"key2\": pd.Series([1,2,1,2,1,None,1]),\n",
    "                   \"data1\": np.random.standard_normal(7),\n",
    "                   \"data2\": np.random.standard_normal(7)})\n",
    "# print(df)\n",
    "\n",
    "# for x,y in df.groupby(\"key1\"):\n",
    "#     print(x)\n",
    "#     print(y)\n",
    "    \n",
    "# for x in df.groupby(\"key1\")['data1']:   # Series Groupby object\n",
    "#     print(x)\n",
    "\n",
    "print(df.groupby(\"key1\")['data1'].mean())  # < -- don't use\n",
    "print(df.loc[:, 'data1'].groupby(df.loc[:, \"key1\"]).mean())  # <- Longhand\n",
    "print(df['data1'].groupby(df[\"key1\"]).mean())                # <- Shorthand\n",
    "\n",
    "print(df[['data1'][\"data2\"]].groupby(df[\"key1\"]).mean())\n",
    "\n"
   ]
  },
  {
   "cell_type": "code",
   "execution_count": 6,
   "id": "6aebccae",
   "metadata": {},
   "outputs": [
    {
     "name": "stdout",
     "output_type": "stream",
     "text": [
      "        Age  Sales\n",
      "Region            \n",
      "East     26    250\n",
      "North    23    100\n",
      "South    22    200\n",
      "West     23    220\n",
      "        Age  Sales\n",
      "Region            \n",
      "East     54    650\n",
      "North    52    540\n",
      "South    35    450\n",
      "West     47    420\n",
      "       Age     Sales     \n",
      "       min max   min  max\n",
      "Region                   \n",
      "East    26  54   250  650\n",
      "North   23  52   100  540\n",
      "South   22  35   200  450\n",
      "West    23  47   220  420\n"
     ]
    }
   ],
   "source": [
    "import pandas as pd\n",
    "\n",
    "sales_df = pd.read_csv(\"Sales2.csv\", index_col = \"Region\")\n",
    "\n",
    "print(sales_df[['Age', 'Sales']].groupby(\"Region\").min())\n",
    "\n",
    "print(sales_df[['Age', 'Sales']].groupby(\"Region\").max())\n",
    "\n",
    "print(sales_df[['Age', 'Sales']].groupby(\"Region\").agg(['min', 'max']))\n",
    "\n"
   ]
  },
  {
   "cell_type": "code",
   "execution_count": 11,
   "id": "a2c22d65",
   "metadata": {},
   "outputs": [
    {
     "name": "stdout",
     "output_type": "stream",
     "text": [
      "        max abovefifty\n",
      "Region                \n",
      "East     54   Above 50\n",
      "North    52   Above 50\n",
      "South    35   Below 50\n",
      "West     47   Below 50\n"
     ]
    }
   ],
   "source": [
    "import pandas as pd\n",
    "\n",
    "def abovefifty(data):\n",
    "    if data.max() > 50:\n",
    "        return \"Above 50\"\n",
    "    else:\n",
    "        return \"Below 50\"\n",
    "    \n",
    "sales_df = pd.read_csv(\"Sales2.csv\", index_col = \"Region\")\n",
    "\n",
    "print(sales_df['Age'].groupby(\"Region\").agg(['max', abovefifty]))\n",
    "\n"
   ]
  },
  {
   "cell_type": "code",
   "execution_count": 20,
   "id": "6cfbc974",
   "metadata": {},
   "outputs": [
    {
     "name": "stdout",
     "output_type": "stream",
     "text": [
      "Region\n",
      "East      True\n",
      "North     True\n",
      "South    False\n",
      "West     False\n",
      "Name: Age, dtype: bool\n",
      "Region\n",
      "East     Above 50\n",
      "North    Above 50\n",
      "South    Below 50\n",
      "West     Below 50\n",
      "Name: Age, dtype: object\n",
      "Region\n",
      "East     Above 50\n",
      "North    Above 50\n",
      "South    Below 50\n",
      "West     Below 50\n",
      "Name: Age, dtype: object\n"
     ]
    }
   ],
   "source": [
    "import pandas as pd\n",
    "\n",
    "def abovefifty(data, message = 'text'):\n",
    "    if data.max() > 50:\n",
    "        if message == 'text':\n",
    "            return \"Above 50\"\n",
    "        else:\n",
    "            return True\n",
    "    else:\n",
    "        if message == 'text':\n",
    "            return \"Below 50\"\n",
    "        else:\n",
    "            return False\n",
    "    \n",
    "sales_df = pd.read_csv(\"Sales2.csv\", index_col = \"Region\")\n",
    "\n",
    "print(sales_df['Age'].groupby(\"Region\").agg(abovefifty, message = 'boolean'))\n",
    "print(sales_df['Age'].groupby(\"Region\").agg(abovefifty, message = 'text'))\n",
    "print(sales_df['Age'].groupby(\"Region\").agg(abovefifty))"
   ]
  },
  {
   "cell_type": "code",
   "execution_count": 28,
   "id": "6498bc7f",
   "metadata": {},
   "outputs": [
    {
     "name": "stdout",
     "output_type": "stream",
     "text": [
      "            Sales       Age\n",
      "Region                     \n",
      "East    Above 500  Above 50\n",
      "North   Above 500  Above 50\n",
      "South   Below 500  Below 50\n",
      "West    Below 500  Below 50\n",
      "        Lowest  Highest    Result\n",
      "Region                           \n",
      "East        26       54  Above 50\n",
      "North       23       52  Above 50\n",
      "South       22       35  Below 50\n",
      "West        23       47  Below 50\n"
     ]
    }
   ],
   "source": [
    "import pandas as pd\n",
    "\n",
    "def abovefifty(data):\n",
    "    if data.max() > 50:\n",
    "        return \"Above 50\"\n",
    "    else:\n",
    "        return \"Below 50\"\n",
    "    \n",
    "def abovefivehundred(data):\n",
    "    if data.max() > 500:\n",
    "        return \"Above 500\"\n",
    "    else:\n",
    "        return \"Below 500\"\n",
    "\n",
    "sales_df = pd.read_csv(\"Sales2.csv\", index_col = \"Region\")\n",
    "\n",
    "print(sales_df[['Sales', 'Age']].groupby(\"Region\").agg({'Sales':abovefivehundred, 'Age':abovefifty}))\n",
    "\n",
    "# To customise the names:\n",
    "\n",
    "print(sales_df['Age'].groupby(\"Region\").agg([(\"Lowest\",'min'), (\"Highest\", 'max'), (\"Result\", abovefifty)]))\n",
    "\n",
    "\n"
   ]
  },
  {
   "cell_type": "markdown",
   "id": "52947a0a",
   "metadata": {},
   "source": [
    "# Apply"
   ]
  },
  {
   "cell_type": "code",
   "execution_count": 33,
   "id": "1452b634",
   "metadata": {},
   "outputs": [
    {
     "name": "stdout",
     "output_type": "stream",
     "text": [
      "            total_bill   tip smoker   day    time  size  tips_pct\n",
      "smoker                                                           \n",
      "No     232       11.61  3.39     No   Sat  Dinner     2  0.291990\n",
      "       149        7.51  2.00     No  Thur   Lunch     2  0.266312\n",
      "       51        10.29  2.60     No   Sun  Dinner     2  0.252672\n",
      "       185       20.69  5.00     No   Sun  Dinner     5  0.241663\n",
      "       88        24.71  5.85     No  Thur   Lunch     2  0.236746\n",
      "Yes    172        7.25  5.15    Yes   Sun  Dinner     2  0.710345\n",
      "       178        9.60  4.00    Yes   Sun  Dinner     2  0.416667\n",
      "       67         3.07  1.00    Yes   Sat  Dinner     1  0.325733\n",
      "       183       23.17  6.50    Yes   Sun  Dinner     4  0.280535\n",
      "       109       14.31  4.00    Yes   Sat  Dinner     2  0.279525\n",
      "            total_bill   tip smoker   day    time  size  tips_pct\n",
      "smoker                                                           \n",
      "No     232       11.61  3.39     No   Sat  Dinner     2  0.291990\n",
      "       149        7.51  2.00     No  Thur   Lunch     2  0.266312\n",
      "       51        10.29  2.60     No   Sun  Dinner     2  0.252672\n",
      "Yes    172        7.25  5.15    Yes   Sun  Dinner     2  0.710345\n",
      "       178        9.60  4.00    Yes   Sun  Dinner     2  0.416667\n",
      "       67         3.07  1.00    Yes   Sat  Dinner     1  0.325733\n",
      "            total_bill    tip smoker  day    time  size  tips_pct\n",
      "smoker                                                           \n",
      "No     212       48.33   9.00     No  Sat  Dinner     4  0.186220\n",
      "       23        39.42   7.58     No  Sat  Dinner     4  0.192288\n",
      "       59        48.27   6.73     No  Sat  Dinner     4  0.139424\n",
      "Yes    170       50.81  10.00    Yes  Sat  Dinner     3  0.196812\n",
      "       183       23.17   6.50    Yes  Sun  Dinner     4  0.280535\n",
      "       214       28.17   6.50    Yes  Sat  Dinner     3  0.230742\n"
     ]
    }
   ],
   "source": [
    "import pandas as pd\n",
    "\n",
    "def topn(df, n=5, column = 'tips_pct'):\n",
    "    return df.sort_values(column, ascending=False)[:n]\n",
    "\n",
    "df1 = pd.read_csv('tips.csv') \n",
    "\n",
    "df1['tips_pct'] = df1['tip'] / df1['total_bill']  # Add new column\n",
    "\n",
    "print(df1.groupby('smoker').apply(topn))\n",
    "print(df1.groupby('smoker').apply(topn, n=3))\n",
    "\n",
    "print(df1.groupby('smoker').apply(topn, n=3, column='tip'))\n",
    "\n",
    "\n",
    "# print(sales_df[['Age', 'Sales']].groupby(\"Region\").apply(min))\n",
    "# print(sales_df[['Age', 'Sales']].groupby(\"Region\").agg(min))\n",
    "\n",
    "# print(df1.groupby('smoker').apply(topn))\n",
    "# print(df1.groupby('smoker').agg(topn)) # fails\n",
    "\n"
   ]
  },
  {
   "cell_type": "markdown",
   "id": "85c5b9e6",
   "metadata": {},
   "source": [
    "# Describing Groups"
   ]
  },
  {
   "cell_type": "code",
   "execution_count": 34,
   "id": "6a6eeccf",
   "metadata": {},
   "outputs": [
    {
     "name": "stdout",
     "output_type": "stream",
     "text": [
      "       total_bill         tip        size\n",
      "count  244.000000  244.000000  244.000000\n",
      "mean    19.785943    2.998279    2.569672\n",
      "std      8.902412    1.383638    0.951100\n",
      "min      3.070000    1.000000    1.000000\n",
      "25%     13.347500    2.000000    2.000000\n",
      "50%     17.795000    2.900000    2.000000\n",
      "75%     24.127500    3.562500    3.000000\n",
      "max     50.810000   10.000000    6.000000\n",
      "        count       mean       std   min     25%    50%     75%    max\n",
      "smoker                                                                \n",
      "No      151.0  19.188278  8.255582  7.25  13.325  17.59  22.755  48.33\n",
      "Yes      93.0  20.756344  9.832154  3.07  13.420  17.92  26.860  50.81\n"
     ]
    }
   ],
   "source": [
    "df1 = pd.read_csv('tips.csv') \n",
    "\n",
    "print(df1.describe())\n",
    "\n",
    "print(df1['total_bill'].groupby(df1['smoker']).describe())"
   ]
  },
  {
   "cell_type": "markdown",
   "id": "dd4dfae5",
   "metadata": {},
   "source": [
    "# Quartile Information"
   ]
  },
  {
   "cell_type": "code",
   "execution_count": 37,
   "id": "0f257b85",
   "metadata": {},
   "outputs": [
    {
     "name": "stdout",
     "output_type": "stream",
     "text": [
      "                min    max  count\n",
      "tip                              \n",
      "(0.999, 2.0]   1.00   2.00     78\n",
      "(2.0, 2.9]     2.01   2.88     44\n",
      "(2.9, 3.562]   2.92   3.55     61\n",
      "(3.562, 10.0]  3.60  10.00     61\n"
     ]
    }
   ],
   "source": [
    "import pandas as pd\n",
    "\n",
    "df1 = pd.read_csv('tips.csv') \n",
    "\n",
    "quartiles = pd.qcut(df1['tip'], 4)\n",
    "\n",
    "print(df1['tip'].groupby(quartiles).agg(['min', 'max', 'count']))"
   ]
  },
  {
   "cell_type": "markdown",
   "id": "53c7737a",
   "metadata": {},
   "source": [
    "# Group Transforms"
   ]
  },
  {
   "cell_type": "code",
   "execution_count": 56,
   "id": "e0af1f8e",
   "metadata": {},
   "outputs": [
    {
     "name": "stdout",
     "output_type": "stream",
     "text": [
      "   key  value\n",
      "0    X    0.0\n",
      "1    Y    1.0\n",
      "2    Z    2.0\n",
      "3    X    3.0\n",
      "4    Y    4.0\n",
      "5    Z    5.0\n",
      "6    X    6.0\n",
      "7    Y    7.0\n",
      "8    Z    8.0\n",
      "9    X    9.0\n",
      "10   Y   10.0\n",
      "11   Z   11.0\n",
      "key\n",
      "X    4.5\n",
      "Y    5.5\n",
      "Z    6.5\n",
      "Name: value, dtype: float64\n",
      "key\n",
      "X    4.5\n",
      "Y    5.5\n",
      "Z    6.5\n",
      "Name: value, dtype: float64\n",
      "key\n",
      "X    4.5\n",
      "Y    5.5\n",
      "Z    6.5\n",
      "Name: value, dtype: float64\n",
      "0     4.5\n",
      "1     5.5\n",
      "2     6.5\n",
      "3     4.5\n",
      "4     5.5\n",
      "5     6.5\n",
      "6     4.5\n",
      "7     5.5\n",
      "8     6.5\n",
      "9     4.5\n",
      "10    5.5\n",
      "11    6.5\n",
      "Name: value, dtype: float64\n"
     ]
    }
   ],
   "source": [
    "import pandas as pd\n",
    "import numpy as np\n",
    "\n",
    "df_test = pd.DataFrame({'key':['X', 'Y', 'Z'] * 4, 'value': np.arange(12.)})\n",
    "\n",
    "print(df_test)\n",
    "\n",
    "print(df_test['value'].groupby(df_test['key']).mean())\n",
    "\n",
    "print(df_test['value'].groupby(df_test['key']).agg('mean'))\n",
    "print(df_test['value'].groupby(df_test['key']).apply('mean'))\n",
    "\n",
    "\n",
    "print(df_test['value'].groupby(df_test['key']).transform('mean'))"
   ]
  },
  {
   "cell_type": "code",
   "execution_count": 75,
   "id": "3010fb06",
   "metadata": {},
   "outputs": [
    {
     "name": "stdout",
     "output_type": "stream",
     "text": [
      "     total_bill   tip smoker   day    time  size  tips_pct\n",
      "0         16.99  1.01     No   Sun  Dinner     2  0.059447\n",
      "1         10.34  1.66     No   Sun  Dinner     3  0.160542\n",
      "2         21.01  3.50     No   Sun  Dinner     3  0.166587\n",
      "3         23.68  3.31     No   Sun  Dinner     2  0.139780\n",
      "4         24.59  3.61     No   Sun  Dinner     4  0.146808\n",
      "..          ...   ...    ...   ...     ...   ...       ...\n",
      "239       29.03  5.92     No   Sat  Dinner     3  0.203927\n",
      "240       27.18  2.00    Yes   Sat  Dinner     2  0.073584\n",
      "241       22.67  2.00    Yes   Sat  Dinner     2  0.088222\n",
      "242       17.82  1.75     No   Sat  Dinner     2  0.098204\n",
      "243       18.78  3.00     No  Thur  Dinner     2  0.159744\n",
      "\n",
      "[244 rows x 7 columns]\n",
      "smoker          No   Yes  All\n",
      "time   day                   \n",
      "Dinner Fri     3.0   9.0   12\n",
      "       Sat    45.0  42.0   87\n",
      "       Sun    57.0  19.0   76\n",
      "       Thur    1.0   NaN    1\n",
      "Lunch  Fri     1.0   6.0    7\n",
      "       Thur   44.0  17.0   61\n",
      "All          151.0  93.0  244\n"
     ]
    }
   ],
   "source": [
    "import pandas as pd\n",
    "\n",
    "print(df1)\n",
    "df1 = pd.read_csv('tips.csv') \n",
    "df1['tips_pct'] = df1['tip'] / df1['total_bill']  # Add new column\n",
    "\n",
    "# print(df1[['day', 'smoker', 'size','tip','total_bill']].pivot_table(index=['day', 'smoker']))\n",
    "\n",
    "# print(df1.pivot_table(index=['time', 'day'], columns = \"smoker\", values = ['tips_pct', 'size']))\n",
    "\n",
    "# print(df1.pivot_table(index=['time', 'day'], columns = \"smoker\", values = ['tips_pct', 'size'], margins=True))\n",
    "\n",
    "# print(df1.pivot_table(index=['time', 'day'], columns = \"smoker\", values = ['tips_pct', 'size'], aggfunc='count' ))\n",
    "\n",
    "#print(df1.pivot_table(index=['time', 'day'], columns = \"smoker\", values = ['tips_pct', 'size'], aggfunc='count', fill_value=0 ))\n",
    "\n",
    "# print(df1.pivot_table(index=['time', 'day'], columns = \"smoker\", values = 'size', aggfunc='count', margins=True))"
   ]
  },
  {
   "cell_type": "code",
   "execution_count": 60,
   "id": "4670478a",
   "metadata": {},
   "outputs": [
    {
     "name": "stdout",
     "output_type": "stream",
     "text": [
      "             size       tips_pct      \n",
      "smoker         No   Yes       No   Yes\n",
      "time   day                            \n",
      "Dinner Fri    3.0   9.0      3.0   9.0\n",
      "       Sat   45.0  42.0     45.0  42.0\n",
      "       Sun   57.0  19.0     57.0  19.0\n",
      "       Thur   1.0   NaN      1.0   NaN\n",
      "Lunch  Fri    1.0   6.0      1.0   6.0\n",
      "       Thur  44.0  17.0     44.0  17.0\n",
      "            size     tips_pct    \n",
      "smoker        No Yes       No Yes\n",
      "time   day                       \n",
      "Dinner Fri     3   9        3   9\n",
      "       Sat    45  42       45  42\n",
      "       Sun    57  19       57  19\n",
      "       Thur    1   0        1   0\n",
      "Lunch  Fri     1   6        1   6\n",
      "       Thur   44  17       44  17\n"
     ]
    }
   ],
   "source": [
    "import pandas as pd\n",
    "\n",
    "df1 = pd.read_csv('tips.csv') \n",
    "\n",
    "df1['tips_pct'] = df1['tip'] / df1['total_bill']  # Add new column\n",
    "\n",
    "print(df1.pivot_table(index=['time', 'day'], columns = \"smoker\", values = ['tips_pct', 'size'], aggfunc='count'))\n",
    "\n",
    "print(df1.pivot_table(index=['time', 'day'], columns = \"smoker\", values = ['tips_pct', 'size'], \n",
    "                      aggfunc='count', fill_value=0))\n",
    "\n",
    "\n",
    "# print(df1.pivot_table(index=['time', 'day'], columns = \"smoker\", values = 'size', aggfunc='count', margins=True))"
   ]
  },
  {
   "cell_type": "code",
   "execution_count": null,
   "id": "c83593cd",
   "metadata": {},
   "outputs": [],
   "source": []
  }
 ],
 "metadata": {
  "kernelspec": {
   "display_name": "Python 3 (ipykernel)",
   "language": "python",
   "name": "python3"
  },
  "language_info": {
   "codemirror_mode": {
    "name": "ipython",
    "version": 3
   },
   "file_extension": ".py",
   "mimetype": "text/x-python",
   "name": "python",
   "nbconvert_exporter": "python",
   "pygments_lexer": "ipython3",
   "version": "3.9.5"
  }
 },
 "nbformat": 4,
 "nbformat_minor": 5
}
